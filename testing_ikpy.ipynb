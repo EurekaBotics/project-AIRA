{
 "cells": [
  {
   "cell_type": "code",
   "execution_count": 14,
   "metadata": {},
   "outputs": [],
   "source": [
    "import tinyik\n",
    "arm = tinyik.Actuator(['x', [1., 0., 0.], 'y', [0, 1., 0.]])"
   ]
  },
  {
   "cell_type": "code",
   "execution_count": 18,
   "metadata": {},
   "outputs": [
    {
     "data": {
      "text/plain": [
       "array([0.98279372, 0.        ])"
      ]
     },
     "execution_count": 18,
     "metadata": {},
     "output_type": "execute_result"
    }
   ],
   "source": [
    "arm.angles"
   ]
  },
  {
   "cell_type": "code",
   "execution_count": 16,
   "metadata": {},
   "outputs": [],
   "source": [
    "arm.ee = [1,2,3]"
   ]
  },
  {
   "cell_type": "code",
   "execution_count": 23,
   "metadata": {},
   "outputs": [
    {
     "name": "stdout",
     "output_type": "stream",
     "text": [
      "Final Joint Angles (yaw, pitch, roll): -5.933538350255106 8.538736530101744 9.763719434558285\n"
     ]
    }
   ],
   "source": [
    "import numpy as np\n",
    "\n",
    "# Define robot dimensions (link lengths)\n",
    "link1_length = 0.2  # Length of the first link\n",
    "link2_length = 0.1  # Length of the second link\n",
    "link3_length = 0.1  # Length of the third link\n",
    "\n",
    "# Define the end-effector position you want to reach\n",
    "desired_position = np.array([0.2, 0.1, 0.15])  # [x, y, z]\n",
    "\n",
    "# Set the maximum number of iterations and a tolerance for convergence\n",
    "max_iterations = 1000\n",
    "tolerance = 1e-6\n",
    "\n",
    "# Initialize joint angles\n",
    "theta1 = 0.0  # Initial guess for the first joint angle (yaw)\n",
    "theta2 = 0.0  # Initial guess for the second joint angle (pitch)\n",
    "theta3 = 0.0  # Initial guess for the third joint angle (roll)\n",
    "\n",
    "# Define the IK solver loop\n",
    "for i in range(max_iterations):\n",
    "    # Calculate the current end-effector position based on the current joint angles\n",
    "    x = link1_length * np.cos(theta1) + link2_length * np.cos(theta1 + theta2) + link3_length * np.cos(theta1 + theta2 + theta3)\n",
    "    y = link1_length * np.sin(theta1) + link2_length * np.sin(theta1 + theta2) + link3_length * np.sin(theta1 + theta2 + theta3)\n",
    "    z = 0.0  # Assuming a planar robot in the XY plane\n",
    "\n",
    "    # Calculate the position error\n",
    "    error = desired_position - np.array([x, y, z])\n",
    "\n",
    "    # Check if the error is within tolerance\n",
    "    if np.linalg.norm(error) < tolerance:\n",
    "        print(\"IK converged in\", i, \"iterations\")\n",
    "        break\n",
    "\n",
    "    # Calculate the Jacobian matrix (partial derivatives) to update joint angles\n",
    "    J = np.array([\n",
    "        [-link1_length * np.sin(theta1) - link2_length * np.sin(theta1 + theta2) - link3_length * np.sin(theta1 + theta2 + theta3),\n",
    "         -link2_length * np.sin(theta1 + theta2) - link3_length * np.sin(theta1 + theta2 + theta3),\n",
    "         -link3_length * np.sin(theta1 + theta2 + theta3)],\n",
    "        [link1_length * np.cos(theta1) + link2_length * np.cos(theta1 + theta2) + link3_length * np.cos(theta1 + theta2 + theta3),\n",
    "         link2_length * np.cos(theta1 + theta2) + link3_length * np.cos(theta1 + theta2 + theta3),\n",
    "         link3_length * np.cos(theta1 + theta2 + theta3)],\n",
    "        [0, 0, 0]\n",
    "    ])\n",
    "\n",
    "    # Update joint angles using the Jacobian\n",
    "    joint_angles = np.array([theta1, theta2, theta3]) + np.linalg.pinv(J).dot(error)\n",
    "\n",
    "    theta1, theta2, theta3 = joint_angles\n",
    "\n",
    "# Output the final joint angles\n",
    "print(\"Final Joint Angles (yaw, pitch, roll):\", theta1, theta2, theta3)\n"
   ]
  }
 ],
 "metadata": {
  "kernelspec": {
   "display_name": "Python 3",
   "language": "python",
   "name": "python3"
  },
  "language_info": {
   "codemirror_mode": {
    "name": "ipython",
    "version": 3
   },
   "file_extension": ".py",
   "mimetype": "text/x-python",
   "name": "python",
   "nbconvert_exporter": "python",
   "pygments_lexer": "ipython3",
   "version": "3.10.11"
  }
 },
 "nbformat": 4,
 "nbformat_minor": 2
}
